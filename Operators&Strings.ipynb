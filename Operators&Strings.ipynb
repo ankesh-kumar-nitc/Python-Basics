{
  "nbformat": 4,
  "nbformat_minor": 0,
  "metadata": {
    "colab": {
      "provenance": [],
      "authorship_tag": "ABX9TyMS6IolyOlMqazRVaA0ehFI",
      "include_colab_link": true
    },
    "kernelspec": {
      "name": "python3",
      "display_name": "Python 3"
    },
    "language_info": {
      "name": "python"
    }
  },
  "cells": [
    {
      "cell_type": "markdown",
      "metadata": {
        "id": "view-in-github",
        "colab_type": "text"
      },
      "source": [
        "<a href=\"https://colab.research.google.com/github/ankesh-kumar-nitc/Python-Basics/blob/main/Operators%26Strings.ipynb\" target=\"_parent\"><img src=\"https://colab.research.google.com/assets/colab-badge.svg\" alt=\"Open In Colab\"/></a>"
      ]
    },
    {
      "cell_type": "markdown",
      "source": [],
      "metadata": {
        "id": "obVKhViDLTBU"
      }
    },
    {
      "cell_type": "markdown",
      "source": [
        "Arithmetic Operators\n"
      ],
      "metadata": {
        "id": "fEBhdNB6LWDb"
      }
    },
    {
      "cell_type": "code",
      "source": [
        "x = 10\n",
        "y = 3\n",
        "\n",
        "## Perform the arithmetic operations\n",
        "print(x + y) # Addition\n",
        "print(x - y) # Subtraction\n",
        "print(x * y) # Multiplication\n",
        "print(x / y) # Division\n",
        "print(x // y) # Floor Division\n",
        "print(x % y) # Modulus (remainder)\n",
        "print(x ** y) # Exponentiation"
      ],
      "metadata": {
        "colab": {
          "base_uri": "https://localhost:8080/"
        },
        "id": "0GOyEdKGLZOk",
        "outputId": "cfe5cfc0-9e63-400c-ebc2-7670baf77be3"
      },
      "execution_count": 1,
      "outputs": [
        {
          "output_type": "stream",
          "name": "stdout",
          "text": [
            "13\n",
            "7\n",
            "30\n",
            "3.3333333333333335\n",
            "3\n",
            "1\n",
            "1000\n"
          ]
        }
      ]
    },
    {
      "cell_type": "code",
      "source": [
        "a = 10 + 34.75\n",
        "print(a)"
      ],
      "metadata": {
        "colab": {
          "base_uri": "https://localhost:8080/"
        },
        "id": "ovzz4c5CLo05",
        "outputId": "0baa707d-8ab4-4d9a-d40d-1dcf0fd48e54"
      },
      "execution_count": 2,
      "outputs": [
        {
          "output_type": "stream",
          "name": "stdout",
          "text": [
            "44.75\n"
          ]
        }
      ]
    },
    {
      "cell_type": "markdown",
      "source": [
        "Comparison Operators"
      ],
      "metadata": {
        "id": "FLaUZsAoL0wA"
      }
    },
    {
      "cell_type": "code",
      "source": [
        "x = 5\n",
        "y = 10\n",
        "\n",
        "## Perform comparison operator\n",
        "print(x == y) # Equal to\n",
        "print(x != y) # Not Equal to\n",
        "print(x > y)  # Greater than\n",
        "print(x < y)  # Less than\n",
        "print(x >= y) # Greater than or equal to\n",
        "print(x <= y) # Less than or equal to"
      ],
      "metadata": {
        "colab": {
          "base_uri": "https://localhost:8080/"
        },
        "id": "8jpA10TbL3HK",
        "outputId": "ffcca951-1492-4114-b4c5-07176dd9df64"
      },
      "execution_count": 3,
      "outputs": [
        {
          "output_type": "stream",
          "name": "stdout",
          "text": [
            "False\n",
            "True\n",
            "False\n",
            "True\n",
            "False\n",
            "True\n"
          ]
        }
      ]
    },
    {
      "cell_type": "markdown",
      "source": [
        "Logical Operators"
      ],
      "metadata": {
        "id": "KeE5366lMC8B"
      }
    },
    {
      "cell_type": "code",
      "source": [
        "x = 5\n",
        "y = 10\n",
        "z = 15\n",
        "\n",
        "## Perform logical operators\n",
        "print(x < y and y < z)\n",
        "print(x < y or x > z)\n",
        "print(not(x < y))"
      ],
      "metadata": {
        "colab": {
          "base_uri": "https://localhost:8080/"
        },
        "id": "nap0-aBnMIoJ",
        "outputId": "2a4b8dd4-9cc3-482f-a07c-22103f97f3b6"
      },
      "execution_count": 4,
      "outputs": [
        {
          "output_type": "stream",
          "name": "stdout",
          "text": [
            "True\n",
            "True\n",
            "False\n"
          ]
        }
      ]
    },
    {
      "cell_type": "markdown",
      "source": [
        "Bitwise Operators"
      ],
      "metadata": {
        "id": "kTRhO2FSMTxF"
      }
    },
    {
      "cell_type": "code",
      "source": [
        "x = 10\n",
        "y = 6\n",
        "\n",
        "## Perform Bitwise Operations\n",
        "print(x & y) # AND Operation\n",
        "print(x | y) # OR Operation\n",
        "print(x ^ y) # XOR Operation\n",
        "\n",
        "## Task\n",
        "print(~x) # NOT Operation\n",
        "\n",
        "\n",
        "print(x << 1) # Left Shift Operation\n",
        "print(x >> 1) # Right Shift Operation"
      ],
      "metadata": {
        "colab": {
          "base_uri": "https://localhost:8080/"
        },
        "id": "BuP-moJHMWap",
        "outputId": "42b24b1c-8a3f-4887-92ea-b25152e0f01a"
      },
      "execution_count": 5,
      "outputs": [
        {
          "output_type": "stream",
          "name": "stdout",
          "text": [
            "2\n",
            "14\n",
            "12\n",
            "-11\n",
            "20\n",
            "5\n"
          ]
        }
      ]
    },
    {
      "cell_type": "markdown",
      "source": [
        "Assignment Operators"
      ],
      "metadata": {
        "id": "DxFj8N0YMkpL"
      }
    },
    {
      "cell_type": "code",
      "source": [
        "x = 20\n",
        "y = 3\n",
        "\n",
        "## Perform assignment operators\n",
        "x += y # x = x + y\n",
        "print(x)\n",
        "\n",
        "x -= y # x = x - y\n",
        "print(x)\n",
        "\n",
        "x *= y\n",
        "print(x)\n",
        "\n",
        "x /= y\n",
        "print(x)\n",
        "\n",
        "x %= y\n",
        "print(x)"
      ],
      "metadata": {
        "colab": {
          "base_uri": "https://localhost:8080/"
        },
        "id": "UqeJKQMrMmVb",
        "outputId": "5885b49e-cb01-4dc2-f35f-d05bc8ac1c4a"
      },
      "execution_count": 6,
      "outputs": [
        {
          "output_type": "stream",
          "name": "stdout",
          "text": [
            "23\n",
            "20\n",
            "60\n",
            "20.0\n",
            "2.0\n"
          ]
        }
      ]
    },
    {
      "cell_type": "markdown",
      "source": [
        "Membership Operators"
      ],
      "metadata": {
        "id": "4ARlD-xHMxgj"
      }
    },
    {
      "cell_type": "code",
      "source": [
        "print('a' in 'Ankesh')"
      ],
      "metadata": {
        "colab": {
          "base_uri": "https://localhost:8080/"
        },
        "id": "BponQ8v7MzIg",
        "outputId": "276d0093-b4b3-44b4-b589-30e7f053a9a9"
      },
      "execution_count": 7,
      "outputs": [
        {
          "output_type": "stream",
          "name": "stdout",
          "text": [
            "False\n"
          ]
        }
      ]
    },
    {
      "cell_type": "markdown",
      "source": [
        "Identity Operators"
      ],
      "metadata": {
        "id": "oxbvbO5BNHT9"
      }
    },
    {
      "cell_type": "code",
      "source": [
        "x = 10\n",
        "y = 10\n",
        "\n",
        "## Perform identity operators\n",
        "print(x is y)\n",
        "print(x is not y)"
      ],
      "metadata": {
        "colab": {
          "base_uri": "https://localhost:8080/"
        },
        "id": "6Lr0kZaSNJLn",
        "outputId": "13db03d3-0f0f-4173-aa7e-791ce206eb80"
      },
      "execution_count": 8,
      "outputs": [
        {
          "output_type": "stream",
          "name": "stdout",
          "text": [
            "True\n",
            "False\n"
          ]
        }
      ]
    },
    {
      "cell_type": "code",
      "source": [
        "print(id(x))\n",
        "print(id(y))"
      ],
      "metadata": {
        "colab": {
          "base_uri": "https://localhost:8080/"
        },
        "id": "Y7o_evlNNU8w",
        "outputId": "a23ec2f7-d64b-48e3-9a23-9528095dd7cd"
      },
      "execution_count": 9,
      "outputs": [
        {
          "output_type": "stream",
          "name": "stdout",
          "text": [
            "10751144\n",
            "10751144\n"
          ]
        }
      ]
    },
    {
      "cell_type": "markdown",
      "source": [
        "Strings in Python"
      ],
      "metadata": {
        "id": "QWMRfAJQNaB1"
      }
    },
    {
      "cell_type": "code",
      "source": [
        "name = \"Ankesh\"\n",
        "type(name)"
      ],
      "metadata": {
        "colab": {
          "base_uri": "https://localhost:8080/"
        },
        "id": "sYpU6cs2NbFb",
        "outputId": "f16187b4-96ad-4cbe-a9b6-6bef6fc2d21b"
      },
      "execution_count": 11,
      "outputs": [
        {
          "output_type": "execute_result",
          "data": {
            "text/plain": [
              "str"
            ]
          },
          "metadata": {},
          "execution_count": 11
        }
      ]
    },
    {
      "cell_type": "code",
      "source": [
        "string = \"Hello, World!\"\n",
        "second_char = string[1]\n",
        "last_char = string[-1]\n",
        "\n",
        "print(second_char)\n",
        "print(last_char)"
      ],
      "metadata": {
        "colab": {
          "base_uri": "https://localhost:8080/"
        },
        "id": "sicTP0F1Nsd4",
        "outputId": "09e93706-7e87-45d6-8306-23d14e0bc03a"
      },
      "execution_count": 12,
      "outputs": [
        {
          "output_type": "stream",
          "name": "stdout",
          "text": [
            "e\n",
            "!\n"
          ]
        }
      ]
    },
    {
      "cell_type": "code",
      "source": [
        "len(string)"
      ],
      "metadata": {
        "colab": {
          "base_uri": "https://localhost:8080/"
        },
        "id": "h6aRVUXGNxvZ",
        "outputId": "81065382-910e-43c2-b594-e0e0f7cb1864"
      },
      "execution_count": 13,
      "outputs": [
        {
          "output_type": "execute_result",
          "data": {
            "text/plain": [
              "13"
            ]
          },
          "metadata": {},
          "execution_count": 13
        }
      ]
    },
    {
      "cell_type": "markdown",
      "source": [
        "Slicing Operation"
      ],
      "metadata": {
        "id": "V-K40dx5N89G"
      }
    },
    {
      "cell_type": "markdown",
      "source": [
        "string[start:end:step_size]"
      ],
      "metadata": {
        "id": "IVB7kgr6OAkO"
      }
    },
    {
      "cell_type": "code",
      "source": [
        "print(string[1:4])"
      ],
      "metadata": {
        "colab": {
          "base_uri": "https://localhost:8080/"
        },
        "id": "PSBh3eA7OLG4",
        "outputId": "317d56da-7812-4dc2-bd87-ebc67c769c5a"
      },
      "execution_count": 14,
      "outputs": [
        {
          "output_type": "stream",
          "name": "stdout",
          "text": [
            "ell\n"
          ]
        }
      ]
    },
    {
      "cell_type": "code",
      "source": [
        "print(string[1:8:2])"
      ],
      "metadata": {
        "colab": {
          "base_uri": "https://localhost:8080/"
        },
        "id": "j5aAlUB8ONH8",
        "outputId": "27fde507-4c73-4ac2-8f37-24c055d5644d"
      },
      "execution_count": 15,
      "outputs": [
        {
          "output_type": "stream",
          "name": "stdout",
          "text": [
            "el,W\n"
          ]
        }
      ]
    },
    {
      "cell_type": "code",
      "source": [
        "print(string[:5])"
      ],
      "metadata": {
        "colab": {
          "base_uri": "https://localhost:8080/"
        },
        "id": "AxkaD69hOWic",
        "outputId": "db75efcf-6ca3-41c6-adaf-ddea034385d2"
      },
      "execution_count": 16,
      "outputs": [
        {
          "output_type": "stream",
          "name": "stdout",
          "text": [
            "Hello\n"
          ]
        }
      ]
    },
    {
      "cell_type": "code",
      "source": [
        "print(string[7:])"
      ],
      "metadata": {
        "colab": {
          "base_uri": "https://localhost:8080/"
        },
        "id": "oY7M4SzJOd7k",
        "outputId": "693cb40d-521f-4747-bf12-f5b040eb7459"
      },
      "execution_count": 17,
      "outputs": [
        {
          "output_type": "stream",
          "name": "stdout",
          "text": [
            "World!\n"
          ]
        }
      ]
    },
    {
      "cell_type": "markdown",
      "source": [
        "Python strings are immutable. Once a string is created, you cannot change it."
      ],
      "metadata": {
        "id": "XpaJtgwJOgHU"
      }
    },
    {
      "cell_type": "code",
      "source": [
        "print(string[-4:])"
      ],
      "metadata": {
        "colab": {
          "base_uri": "https://localhost:8080/"
        },
        "id": "P63wASfGOj5l",
        "outputId": "19f85caa-2ba8-4849-95ec-0fe5ce4bbd94"
      },
      "execution_count": 18,
      "outputs": [
        {
          "output_type": "stream",
          "name": "stdout",
          "text": [
            "rld!\n"
          ]
        }
      ]
    },
    {
      "cell_type": "code",
      "source": [
        "print(string[:-5])"
      ],
      "metadata": {
        "colab": {
          "base_uri": "https://localhost:8080/"
        },
        "id": "AhxNjyehOpHM",
        "outputId": "8f5c956b-b3b6-4b60-c10f-b12ba78bc68c"
      },
      "execution_count": 19,
      "outputs": [
        {
          "output_type": "stream",
          "name": "stdout",
          "text": [
            "Hello, W\n"
          ]
        }
      ]
    },
    {
      "cell_type": "markdown",
      "source": [
        "Reversal of the entire string"
      ],
      "metadata": {
        "id": "gIFC6GSROvu9"
      }
    },
    {
      "cell_type": "code",
      "source": [
        "print(string[::-1])"
      ],
      "metadata": {
        "colab": {
          "base_uri": "https://localhost:8080/"
        },
        "id": "swEkiVrIO3T3",
        "outputId": "fb93bccf-2c5c-4029-f766-48974c26176c"
      },
      "execution_count": 20,
      "outputs": [
        {
          "output_type": "stream",
          "name": "stdout",
          "text": [
            "!dlroW ,olleH\n"
          ]
        }
      ]
    },
    {
      "cell_type": "code",
      "source": [
        "print(string[::])"
      ],
      "metadata": {
        "colab": {
          "base_uri": "https://localhost:8080/"
        },
        "id": "6fUr_hinPAFa",
        "outputId": "230fa9b4-9b4b-471d-9550-1f1cbbedb43d"
      },
      "execution_count": 21,
      "outputs": [
        {
          "output_type": "stream",
          "name": "stdout",
          "text": [
            "Hello, World!\n"
          ]
        }
      ]
    },
    {
      "cell_type": "code",
      "source": [
        "print(string[::-2])"
      ],
      "metadata": {
        "colab": {
          "base_uri": "https://localhost:8080/"
        },
        "id": "BSxLG9uEPEg1",
        "outputId": "08ead8ef-ac29-4999-ba03-fab53024d785"
      },
      "execution_count": 22,
      "outputs": [
        {
          "output_type": "stream",
          "name": "stdout",
          "text": [
            "!lo olH\n"
          ]
        }
      ]
    },
    {
      "cell_type": "markdown",
      "source": [
        "Inbuilt Functions of String"
      ],
      "metadata": {
        "id": "QgPPfwrQPI3g"
      }
    },
    {
      "cell_type": "code",
      "source": [
        "uppercase_string = string.upper()\n",
        "print(uppercase_string)"
      ],
      "metadata": {
        "colab": {
          "base_uri": "https://localhost:8080/"
        },
        "id": "nvCq9vJCPMOd",
        "outputId": "71759ec2-7382-4838-99b8-7ed1336f3477"
      },
      "execution_count": 23,
      "outputs": [
        {
          "output_type": "stream",
          "name": "stdout",
          "text": [
            "HELLO, WORLD!\n"
          ]
        }
      ]
    },
    {
      "cell_type": "code",
      "source": [
        "lowercase_string = string.lower()\n",
        "print(lowercase_string)"
      ],
      "metadata": {
        "colab": {
          "base_uri": "https://localhost:8080/"
        },
        "id": "1jiTqLoPPWbZ",
        "outputId": "81755750-1879-4803-84ac-005400b3d2b7"
      },
      "execution_count": 24,
      "outputs": [
        {
          "output_type": "stream",
          "name": "stdout",
          "text": [
            "hello, world!\n"
          ]
        }
      ]
    },
    {
      "cell_type": "code",
      "source": [
        "string = \"Today's session is quite fun\"\n",
        "titlecase_string = string.title()\n",
        "print(titlecase_string)"
      ],
      "metadata": {
        "colab": {
          "base_uri": "https://localhost:8080/"
        },
        "id": "ethlflEYPYU9",
        "outputId": "6371ed39-8ba6-4d77-9eb1-79aa43ee6bec"
      },
      "execution_count": 25,
      "outputs": [
        {
          "output_type": "stream",
          "name": "stdout",
          "text": [
            "Today'S Session Is Quite Fun\n"
          ]
        }
      ]
    },
    {
      "cell_type": "code",
      "source": [
        "string = \"Today's Session is quite Fun\"\n",
        "capitalized_string = string.capitalize()\n",
        "print(capitalized_string)"
      ],
      "metadata": {
        "colab": {
          "base_uri": "https://localhost:8080/"
        },
        "id": "iOsBV4FbPc7E",
        "outputId": "56d5f5c1-67ee-4939-d0e0-53d87e300b3b"
      },
      "execution_count": 26,
      "outputs": [
        {
          "output_type": "stream",
          "name": "stdout",
          "text": [
            "Today's session is quite fun\n"
          ]
        }
      ]
    },
    {
      "cell_type": "code",
      "source": [
        "str1 = \"Hello\"\n",
        "str2 = \"World\"\n",
        "# Concatenation Operation\n",
        "result = str1 + \" \" + str2\n",
        "print(result)"
      ],
      "metadata": {
        "colab": {
          "base_uri": "https://localhost:8080/"
        },
        "id": "FVtjwvD5PiO1",
        "outputId": "bb4a74c8-35b2-409d-ac61-38b46853f8e7"
      },
      "execution_count": 27,
      "outputs": [
        {
          "output_type": "stream",
          "name": "stdout",
          "text": [
            "Hello World\n"
          ]
        }
      ]
    },
    {
      "cell_type": "code",
      "source": [
        "result = str1 * 3\n",
        "print(result)"
      ],
      "metadata": {
        "colab": {
          "base_uri": "https://localhost:8080/"
        },
        "id": "zgQQB5jkPn5k",
        "outputId": "63610d3d-b456-42c6-a846-0a4480ceb371"
      },
      "execution_count": 28,
      "outputs": [
        {
          "output_type": "stream",
          "name": "stdout",
          "text": [
            "HelloHelloHello\n"
          ]
        }
      ]
    },
    {
      "cell_type": "code",
      "source": [
        "print(string[1:8:2])"
      ],
      "metadata": {
        "colab": {
          "base_uri": "https://localhost:8080/"
        },
        "id": "U0mwT0dsPuR6",
        "outputId": "11eeec13-d928-4d7c-edc4-930056a49136"
      },
      "execution_count": 29,
      "outputs": [
        {
          "output_type": "stream",
          "name": "stdout",
          "text": [
            "oa' \n"
          ]
        }
      ]
    },
    {
      "cell_type": "code",
      "source": [
        "## expression\n",
        "string[1:8:2]"
      ],
      "metadata": {
        "colab": {
          "base_uri": "https://localhost:8080/",
          "height": 36
        },
        "id": "tuoZFcQkPzo4",
        "outputId": "6339a8f5-6423-4a4e-ed0f-e7b5c4f2899d"
      },
      "execution_count": 30,
      "outputs": [
        {
          "output_type": "execute_result",
          "data": {
            "text/plain": [
              "\"oa' \""
            ],
            "application/vnd.google.colaboratory.intrinsic+json": {
              "type": "string"
            }
          },
          "metadata": {},
          "execution_count": 30
        }
      ]
    }
  ]
}